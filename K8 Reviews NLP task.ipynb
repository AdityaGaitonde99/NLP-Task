{
 "cells": [
  {
   "cell_type": "markdown",
   "id": "f07f1ce7",
   "metadata": {},
   "source": [
    "# Question 1) Read the .csv file using Pandas. Take a look at the top few records."
   ]
  },
  {
   "cell_type": "code",
   "execution_count": 1,
   "id": "8b200f71",
   "metadata": {},
   "outputs": [
    {
     "name": "stderr",
     "output_type": "stream",
     "text": [
      "[nltk_data] Downloading package tagsets to C:\\Users\\Aditya\n",
      "[nltk_data]     Gaitonde\\AppData\\Roaming\\nltk_data...\n",
      "[nltk_data]   Package tagsets is already up-to-date!\n"
     ]
    },
    {
     "data": {
      "text/html": [
       "<div>\n",
       "<style scoped>\n",
       "    .dataframe tbody tr th:only-of-type {\n",
       "        vertical-align: middle;\n",
       "    }\n",
       "\n",
       "    .dataframe tbody tr th {\n",
       "        vertical-align: top;\n",
       "    }\n",
       "\n",
       "    .dataframe thead th {\n",
       "        text-align: right;\n",
       "    }\n",
       "</style>\n",
       "<table border=\"1\" class=\"dataframe\">\n",
       "  <thead>\n",
       "    <tr style=\"text-align: right;\">\n",
       "      <th></th>\n",
       "      <th>sentiment</th>\n",
       "      <th>review</th>\n",
       "    </tr>\n",
       "  </thead>\n",
       "  <tbody>\n",
       "    <tr>\n",
       "      <th>0</th>\n",
       "      <td>1</td>\n",
       "      <td>Good but need updates and improvements</td>\n",
       "    </tr>\n",
       "    <tr>\n",
       "      <th>1</th>\n",
       "      <td>0</td>\n",
       "      <td>Worst mobile i have bought ever, Battery is dr...</td>\n",
       "    </tr>\n",
       "    <tr>\n",
       "      <th>2</th>\n",
       "      <td>1</td>\n",
       "      <td>when I will get my 10% cash back.... its alrea...</td>\n",
       "    </tr>\n",
       "    <tr>\n",
       "      <th>3</th>\n",
       "      <td>1</td>\n",
       "      <td>Good</td>\n",
       "    </tr>\n",
       "    <tr>\n",
       "      <th>4</th>\n",
       "      <td>0</td>\n",
       "      <td>The worst phone everThey have changed the last...</td>\n",
       "    </tr>\n",
       "  </tbody>\n",
       "</table>\n",
       "</div>"
      ],
      "text/plain": [
       "   sentiment                                             review\n",
       "0          1             Good but need updates and improvements\n",
       "1          0  Worst mobile i have bought ever, Battery is dr...\n",
       "2          1  when I will get my 10% cash back.... its alrea...\n",
       "3          1                                               Good\n",
       "4          0  The worst phone everThey have changed the last..."
      ]
     },
     "execution_count": 1,
     "metadata": {},
     "output_type": "execute_result"
    }
   ],
   "source": [
    "import pandas as pd\n",
    "import numpy as np\n",
    "import nltk\n",
    "from nltk import corpus \n",
    "import seaborn as sns\n",
    "nltk.download('tagsets')\n",
    "\n",
    "df = pd.read_csv(r'C:\\Users\\Aditya Gaitonde\\Downloads\\K8 Reviews v0.2.csv')\n",
    "df.head()"
   ]
  },
  {
   "cell_type": "markdown",
   "id": "3b420b72",
   "metadata": {},
   "source": [
    "# Question 2) Normalize casings for the review text and extract the text into a list for easier manipulation."
   ]
  },
  {
   "cell_type": "code",
   "execution_count": 2,
   "id": "b2c910db",
   "metadata": {},
   "outputs": [
    {
     "name": "stdout",
     "output_type": "stream",
     "text": [
      "good but need updates and improvements\n"
     ]
    }
   ],
   "source": [
    "reviews = list(df['review'].values)\n",
    "reviews = [review.lower() for review in reviews]\n",
    "print (reviews[0])"
   ]
  },
  {
   "cell_type": "markdown",
   "id": "49d36646",
   "metadata": {},
   "source": [
    "# Question 3) Tokenize the reviews using NLTKs word_tokenize function."
   ]
  },
  {
   "cell_type": "code",
   "execution_count": 3,
   "id": "0ae54db6",
   "metadata": {},
   "outputs": [
    {
     "data": {
      "text/plain": [
       "['good', 'but', 'need', 'updates', 'and', 'improvements']"
      ]
     },
     "execution_count": 3,
     "metadata": {},
     "output_type": "execute_result"
    }
   ],
   "source": [
    "review_tokens = [nltk.word_tokenize(review) for review in reviews]\n",
    "review_tokens[0]"
   ]
  },
  {
   "cell_type": "markdown",
   "id": "f4149a36",
   "metadata": {},
   "source": [
    "# Question 4) Perform parts-of-speech tagging on each sentence using the NLTK POS tagger"
   ]
  },
  {
   "cell_type": "code",
   "execution_count": 4,
   "id": "1c0c3368",
   "metadata": {},
   "outputs": [
    {
     "data": {
      "text/plain": [
       "[('good', 'JJ'),\n",
       " ('but', 'CC'),\n",
       " ('need', 'VBP'),\n",
       " ('updates', 'NNS'),\n",
       " ('and', 'CC'),\n",
       " ('improvements', 'NNS')]"
      ]
     },
     "execution_count": 4,
     "metadata": {},
     "output_type": "execute_result"
    }
   ],
   "source": [
    "pos_tagged = [nltk.pos_tag(review) for review in review_tokens]\n",
    "pos_tagged[0]"
   ]
  },
  {
   "cell_type": "markdown",
   "id": "3dc56810",
   "metadata": {},
   "source": [
    "# Question 5) For the topic model, we should  want to include only nouns."
   ]
  },
  {
   "cell_type": "markdown",
   "id": "a33f3572",
   "metadata": {},
   "source": [
    "# A) Find out all the POS tags that correspond to nouns."
   ]
  },
  {
   "cell_type": "markdown",
   "id": "f56b951e",
   "metadata": {},
   "source": [
    "# B) Limit the data to only terms with these tags."
   ]
  },
  {
   "cell_type": "code",
   "execution_count": 5,
   "id": "b3a05899",
   "metadata": {},
   "outputs": [],
   "source": [
    "reviews_noun = []\n",
    "for review in pos_tagged:\n",
    "    reviews_noun.append([postag for postag in review if postag[1].startswith('NN')])"
   ]
  },
  {
   "cell_type": "markdown",
   "id": "55e766a1",
   "metadata": {},
   "source": [
    "# Question 6) Lemmatize. "
   ]
  },
  {
   "cell_type": "code",
   "execution_count": 6,
   "id": "40875867",
   "metadata": {},
   "outputs": [
    {
     "name": "stdout",
     "output_type": "stream",
     "text": [
      "['update', 'improvement']\n"
     ]
    }
   ],
   "source": [
    "lem = nltk.WordNetLemmatizer()\n",
    "lem_reviews =[]\n",
    "for  review in reviews_noun:\n",
    "    lem_reviews.append([lem.lemmatize(postag[0]) for postag in review])\n",
    "print (lem_reviews[0])"
   ]
  },
  {
   "cell_type": "markdown",
   "id": "b6c52b51",
   "metadata": {},
   "source": [
    "# Question 7) Remove stopwords and punctuation"
   ]
  },
  {
   "cell_type": "code",
   "execution_count": 7,
   "id": "3e768560",
   "metadata": {},
   "outputs": [
    {
     "name": "stdout",
     "output_type": "stream",
     "text": [
      "['update', 'improvement']\n"
     ]
    }
   ],
   "source": [
    "from nltk.corpus import stopwords\n",
    "from string import punctuation\n",
    "clean_reviews = []\n",
    "for review in lem_reviews:\n",
    "    clean_reviews.append([word for word in review if word not in (stopwords.words('English') + list(punctuation))])\n",
    "print (clean_reviews[0])"
   ]
  },
  {
   "cell_type": "markdown",
   "id": "6e39f651",
   "metadata": {},
   "source": [
    "# Question 8) Create a topic model using LDA on the cleaned-up data with 12 topics."
   ]
  },
  {
   "cell_type": "markdown",
   "id": "93a8fabd",
   "metadata": {},
   "source": [
    "# B) What is the coherence of the model with the c_v metric?"
   ]
  },
  {
   "cell_type": "code",
   "execution_count": 8,
   "id": "bef17e6b",
   "metadata": {},
   "outputs": [
    {
     "name": "stderr",
     "output_type": "stream",
     "text": [
      "C:\\Users\\Aditya Gaitonde\\anaconda3\\lib\\site-packages\\gensim\\similarities\\__init__.py:15: UserWarning: The gensim.similarities.levenshtein submodule is disabled, because the optional Levenshtein package <https://pypi.org/project/python-Levenshtein/> is unavailable. Install Levenhstein (e.g. `pip install python-Levenshtein`) to suppress this warning.\n",
      "  warnings.warn(msg)\n"
     ]
    },
    {
     "name": "stdout",
     "output_type": "stream",
     "text": [
      "Corpora dictionary\n",
      "Dictionary(9263 unique tokens: ['improvement', 'update', 'amazon', 'backup', 'battery']...)\n"
     ]
    },
    {
     "data": {
      "text/plain": [
       "['mobile',\n",
       " 'battery',\n",
       " 'hell',\n",
       " 'backup',\n",
       " 'hour',\n",
       " 'us',\n",
       " 'idle',\n",
       " 'discharged.this',\n",
       " 'lie',\n",
       " 'amazon',\n",
       " 'lenove',\n",
       " 'battery',\n",
       " 'charger',\n",
       " 'hour']"
      ]
     },
     "execution_count": 8,
     "metadata": {},
     "output_type": "execute_result"
    }
   ],
   "source": [
    "import gensim\n",
    "import gensim.corpora as corpora\n",
    "from gensim.utils import simple_preprocess\n",
    "from gensim.models import CoherenceModel\n",
    "\n",
    "import pyLDAvis\n",
    "import pyLDAvis.gensim_models  \n",
    "import matplotlib.pyplot as plt\n",
    "%matplotlib inline\n",
    "\n",
    "id2word = corpora.Dictionary(clean_reviews)\n",
    "print (\"Corpora dictionary\")\n",
    "print (id2word)\n",
    "\n",
    "texts = clean_reviews\n",
    "clean_reviews[1]"
   ]
  },
  {
   "cell_type": "code",
   "execution_count": 9,
   "id": "abdbdef8",
   "metadata": {},
   "outputs": [
    {
     "name": "stdout",
     "output_type": "stream",
     "text": [
      "Document frequency\n",
      "[(14, 2), (37, 1), (144, 1), (315, 1), (416, 1), (417, 1)]\n"
     ]
    },
    {
     "name": "stderr",
     "output_type": "stream",
     "text": [
      "C:\\Users\\Aditya Gaitonde\\anaconda3\\lib\\site-packages\\ipykernel\\ipkernel.py:287: DeprecationWarning: `should_run_async` will not call `transform_cell` automatically in the future. Please pass the result to `transformed_cell` argument and any exception that happen during thetransform in `preprocessing_exc_tuple` in IPython 7.17 and above.\n",
      "  and should_run_async(code)\n"
     ]
    }
   ],
   "source": [
    "corpus = [id2word.doc2bow(text) for text in texts]\n",
    "print (\"Document frequency\")\n",
    "print (corpus[200])"
   ]
  },
  {
   "cell_type": "code",
   "execution_count": 10,
   "id": "31c75324",
   "metadata": {},
   "outputs": [
    {
     "name": "stderr",
     "output_type": "stream",
     "text": [
      "C:\\Users\\Aditya Gaitonde\\anaconda3\\lib\\site-packages\\ipykernel\\ipkernel.py:287: DeprecationWarning: `should_run_async` will not call `transform_cell` automatically in the future. Please pass the result to `transformed_cell` argument and any exception that happen during thetransform in `preprocessing_exc_tuple` in IPython 7.17 and above.\n",
      "  and should_run_async(code)\n"
     ]
    },
    {
     "name": "stdout",
     "output_type": "stream",
     "text": [
      "Coherence Score =  0.5210843618371478\n"
     ]
    }
   ],
   "source": [
    "lda_model = gensim.models.ldamodel.LdaModel(corpus=corpus,\n",
    "                                       id2word=id2word,\n",
    "                                       num_topics=12, \n",
    "                                       random_state=42,\n",
    "                                       passes=10,\n",
    "                                       per_word_topics=True)\n",
    "coherence_model_lda = CoherenceModel(model=lda_model, texts=clean_reviews, dictionary=id2word, coherence='c_v')\n",
    "ch = coherence_model_lda.get_coherence()\n",
    "print(\"Coherence Score = \",ch)"
   ]
  },
  {
   "cell_type": "markdown",
   "id": "74987224",
   "metadata": {},
   "source": [
    "# A) Print out the top terms for each topic."
   ]
  },
  {
   "cell_type": "code",
   "execution_count": 11,
   "id": "fd2220ff",
   "metadata": {},
   "outputs": [
    {
     "name": "stdout",
     "output_type": "stream",
     "text": [
      "[(0,\n",
      "  '0.055*\"speaker\" + 0.032*\"ram\" + 0.027*\"music\" + 0.025*\"time\" + 0.023*\"app\" '\n",
      "  '+ 0.022*\"sensor\" + 0.022*\"apps\" + 0.019*\"image\" + 0.017*\"button\" + '\n",
      "  '0.016*\"gb\"'),\n",
      " (1,\n",
      "  '0.118*\"phone\" + 0.049*\"service\" + 0.049*\"day\" + 0.048*\"amazon\" + '\n",
      "  '0.047*\"time\" + 0.044*\"charger\" + 0.025*\"month\" + 0.024*\"delivery\" + '\n",
      "  '0.021*\"handset\" + 0.020*\"turbo\"'),\n",
      " (2,\n",
      "  '0.184*\"camera\" + 0.099*\"phone\" + 0.091*\"quality\" + 0.020*\"performance\" + '\n",
      "  '0.017*\"processor\" + 0.015*\"mode\" + 0.014*\"feature\" + 0.013*\"note\" + '\n",
      "  '0.012*\"speed\" + 0.012*\"sound\"'),\n",
      " (3,\n",
      "  '0.122*\"issue\" + 0.110*\"phone\" + 0.069*\"network\" + 0.033*\"money\" + '\n",
      "  '0.032*\"sim\" + 0.028*\"value\" + 0.022*\"h\" + 0.020*\"support\" + 0.019*\"time\" + '\n",
      "  '0.018*\"jio\"'),\n",
      " (4,\n",
      "  '0.329*\"battery\" + 0.062*\"backup\" + 0.049*\"performance\" + 0.040*\"camera\" + '\n",
      "  '0.036*\"life\" + 0.034*\"issue\" + 0.034*\"hour\" + 0.031*\"day\" + 0.023*\"drain\" + '\n",
      "  '0.022*\"usage\"'),\n",
      " (5,\n",
      "  '0.231*\"problem\" + 0.065*\"heating\" + 0.061*\"call\" + 0.052*\"option\" + '\n",
      "  '0.034*\"screen\" + 0.026*\"phone\" + 0.023*\"cast\" + 0.017*\"contact\" + '\n",
      "  '0.015*\"model\" + 0.013*\"note\"'),\n",
      " (6,\n",
      "  '0.094*\"heat\" + 0.094*\"money\" + 0.078*\"waste\" + 0.054*\"hr\" + 0.050*\"mobile\" '\n",
      "  '+ 0.028*\"earphone\" + 0.021*\"function\" + 0.021*\"pls\" + 0.020*\"item\" + '\n",
      "  '0.018*\"message\"'),\n",
      " (7,\n",
      "  '0.053*\"hai\" + 0.044*\"glass\" + 0.031*\"headphone\" + 0.028*\"display\" + '\n",
      "  '0.026*\"core\" + 0.023*\"gorilla\" + 0.022*\"ho\" + 0.022*\"excellent\" + '\n",
      "  '0.019*\"plz\" + 0.014*\"deca\"'),\n",
      " (8,\n",
      "  '0.340*\"product\" + 0.131*\"note\" + 0.090*\"k8\" + 0.062*\"lenovo\" + '\n",
      "  '0.031*\".....\" + 0.018*\"experience\" + 0.015*\"......\" + 0.012*\"condition\" + '\n",
      "  '0.010*\"till\" + 0.009*\"date\"'),\n",
      " (9,\n",
      "  '0.180*\"....\" + 0.043*\"star\" + 0.041*\"system\" + 0.035*\"dolby\" + '\n",
      "  '0.028*\"sound\" + 0.027*\"atmos\" + 0.025*\"ok\" + 0.022*\"r\" + 0.021*\"k4\" + '\n",
      "  '0.020*\"please\"'),\n",
      " (10,\n",
      "  '0.326*\"phone\" + 0.140*\"..\" + 0.116*\"mobile\" + 0.092*\"price\" + 0.036*\"range\" '\n",
      "  '+ 0.026*\"feature\" + 0.019*\"superb\" + 0.014*\"performance\" + 0.011*\"buy\" + '\n",
      "  '0.010*\"super\"'),\n",
      " (11,\n",
      "  '0.088*\"device\" + 0.070*\"software\" + 0.066*\"update\" + 0.045*\"feature\" + '\n",
      "  '0.040*\"budget\" + 0.036*\"bit\" + 0.028*\"smartphone\" + 0.026*\"lenovo\" + '\n",
      "  '0.022*\"mode\" + 0.019*\"cost\"')]\n"
     ]
    },
    {
     "name": "stderr",
     "output_type": "stream",
     "text": [
      "C:\\Users\\Aditya Gaitonde\\anaconda3\\lib\\site-packages\\ipykernel\\ipkernel.py:287: DeprecationWarning: `should_run_async` will not call `transform_cell` automatically in the future. Please pass the result to `transformed_cell` argument and any exception that happen during thetransform in `preprocessing_exc_tuple` in IPython 7.17 and above.\n",
      "  and should_run_async(code)\n"
     ]
    }
   ],
   "source": [
    "from pprint import pprint\n",
    "pprint (lda_model.print_topics())\n",
    "doc_lda = lda_model[corpus]"
   ]
  },
  {
   "cell_type": "markdown",
   "id": "4239cf13",
   "metadata": {},
   "source": [
    "# Question 9) Analyze the topics through the business lens.\n",
    "Determine which of the topics can be combined."
   ]
  },
  {
   "cell_type": "markdown",
   "id": "0a951d2c",
   "metadata": {},
   "source": [
    "Topic 9 ,10,11,12 can be combined as they all represent 'pricing'\\ Topics 1 and 2 can be combined as they all represent vaguely 'phone issues' \\ Topics 3 and 4 can be combined as they represent battery 'performance'"
   ]
  },
  {
   "cell_type": "markdown",
   "id": "4ef520a7",
   "metadata": {},
   "source": [
    "# Question 10) Create topic model using LDA with what you think is the optimal number of topics"
   ]
  },
  {
   "cell_type": "code",
   "execution_count": 12,
   "id": "95c37e53",
   "metadata": {},
   "outputs": [
    {
     "name": "stderr",
     "output_type": "stream",
     "text": [
      "C:\\Users\\Aditya Gaitonde\\anaconda3\\lib\\site-packages\\ipykernel\\ipkernel.py:287: DeprecationWarning: `should_run_async` will not call `transform_cell` automatically in the future. Please pass the result to `transformed_cell` argument and any exception that happen during thetransform in `preprocessing_exc_tuple` in IPython 7.17 and above.\n",
      "  and should_run_async(code)\n"
     ]
    }
   ],
   "source": [
    "def compute_coherence_values(dictionary, corpus, texts, limit=15, start=5, step=1):\n",
    "    \n",
    "    coherence_values = []\n",
    "    model_list = []\n",
    "    for num_topics in range(start, limit, step):\n",
    "        lda_model = gensim.models.ldamodel.LdaModel(corpus=corpus,\n",
    "                                               id2word=id2word,\n",
    "                                               num_topics=num_topics, \n",
    "                                               random_state=42,\n",
    "                                               passes=10,\n",
    "                                               per_word_topics=True)\n",
    "        model_list.append(lda_model)\n",
    "        coherence_model_lda = CoherenceModel(model=lda_model, texts=clean_reviews, dictionary=id2word, coherence='c_v')\n",
    "        coherence_values.append(coherence_model_lda.get_coherence())\n",
    "\n",
    "    return model_list, coherence_values"
   ]
  },
  {
   "cell_type": "code",
   "execution_count": 13,
   "id": "4acaf2e0",
   "metadata": {},
   "outputs": [
    {
     "name": "stderr",
     "output_type": "stream",
     "text": [
      "C:\\Users\\Aditya Gaitonde\\anaconda3\\lib\\site-packages\\ipykernel\\ipkernel.py:287: DeprecationWarning: `should_run_async` will not call `transform_cell` automatically in the future. Please pass the result to `transformed_cell` argument and any exception that happen during thetransform in `preprocessing_exc_tuple` in IPython 7.17 and above.\n",
      "  and should_run_async(code)\n"
     ]
    }
   ],
   "source": [
    "model_list, coherence_values = compute_coherence_values(dictionary=id2word, \n",
    "                                                        corpus=corpus, \n",
    "                                                        texts=clean_reviews, \n",
    "                                                        start=5, \n",
    "                                                        limit=15, \n",
    "                                                        step=1)"
   ]
  },
  {
   "cell_type": "code",
   "execution_count": 14,
   "id": "cd1174ba",
   "metadata": {},
   "outputs": [
    {
     "name": "stderr",
     "output_type": "stream",
     "text": [
      "C:\\Users\\Aditya Gaitonde\\anaconda3\\lib\\site-packages\\ipykernel\\ipkernel.py:287: DeprecationWarning: `should_run_async` will not call `transform_cell` automatically in the future. Please pass the result to `transformed_cell` argument and any exception that happen during thetransform in `preprocessing_exc_tuple` in IPython 7.17 and above.\n",
      "  and should_run_async(code)\n"
     ]
    },
    {
     "data": {
      "image/png": "[encoded data removed]",
      "text/plain": [
       "<Figure size 432x288 with 1 Axes>"
      ]
     },
     "metadata": {
      "needs_background": "light"
     },
     "output_type": "display_data"
    }
   ],
   "source": [
    "limit=15; start=5; step=1;\n",
    "x = range(start, limit, step)\n",
    "plt.plot(x, coherence_values)\n",
    "plt.xlabel(\"Num Topics\")\n",
    "plt.ylabel(\"Coherence score\")\n",
    "plt.legend((\"coherence_values\"), loc='best')\n",
    "plt.show()"
   ]
  },
  {
   "cell_type": "code",
   "execution_count": 15,
   "id": "c4b537fe",
   "metadata": {},
   "outputs": [
    {
     "name": "stdout",
     "output_type": "stream",
     "text": [
      "Num Topics = 5  has Coherence Value of 0.5773\n",
      "Num Topics = 6  has Coherence Value of 0.5669\n",
      "Num Topics = 7  has Coherence Value of 0.5674\n",
      "Num Topics = 8  has Coherence Value of 0.5804\n",
      "Num Topics = 9  has Coherence Value of 0.5702\n",
      "Num Topics = 10  has Coherence Value of 0.5827\n",
      "Num Topics = 11  has Coherence Value of 0.5224\n",
      "Num Topics = 12  has Coherence Value of 0.5211\n",
      "Num Topics = 13  has Coherence Value of 0.4909\n",
      "Num Topics = 14  has Coherence Value of 0.4913\n"
     ]
    },
    {
     "name": "stderr",
     "output_type": "stream",
     "text": [
      "C:\\Users\\Aditya Gaitonde\\anaconda3\\lib\\site-packages\\ipykernel\\ipkernel.py:287: DeprecationWarning: `should_run_async` will not call `transform_cell` automatically in the future. Please pass the result to `transformed_cell` argument and any exception that happen during thetransform in `preprocessing_exc_tuple` in IPython 7.17 and above.\n",
      "  and should_run_async(code)\n"
     ]
    }
   ],
   "source": [
    "for m, cv in zip(x, coherence_values):\n",
    "    print(\"Num Topics =\", m, \" has Coherence Value of\", round(cv, 4))"
   ]
  },
  {
   "cell_type": "markdown",
   "id": "cad6affe",
   "metadata": {},
   "source": [
    "# A) What is the coherence of the model?"
   ]
  },
  {
   "cell_type": "markdown",
   "id": "8709e3c5",
   "metadata": {},
   "source": [
    "Therefore the optimal number of topics is 10 and the Coherence score for it is 0.5827"
   ]
  },
  {
   "cell_type": "markdown",
   "id": "4e9f1b28",
   "metadata": {},
   "source": [
    "# Question 11) The business should  be able to interpret the topics."
   ]
  },
  {
   "cell_type": "markdown",
   "id": "721f39e7",
   "metadata": {},
   "source": [
    "# A) Name each of the identified topics."
   ]
  },
  {
   "cell_type": "code",
   "execution_count": 16,
   "id": "ae6b967a",
   "metadata": {},
   "outputs": [
    {
     "name": "stdout",
     "output_type": "stream",
     "text": [
      "[10, 6, 0, 2, 8, 3, 7, 9, 5, 11]\n"
     ]
    },
    {
     "name": "stderr",
     "output_type": "stream",
     "text": [
      "C:\\Users\\Aditya Gaitonde\\anaconda3\\lib\\site-packages\\ipykernel\\ipkernel.py:287: DeprecationWarning: `should_run_async` will not call `transform_cell` automatically in the future. Please pass the result to `transformed_cell` argument and any exception that happen during thetransform in `preprocessing_exc_tuple` in IPython 7.17 and above.\n",
      "  and should_run_async(code)\n"
     ]
    }
   ],
   "source": [
    "topics = lda_model.show_topics(formatted=False)\n",
    "topic_id = [t[0] for t in topics]\n",
    "print (topic_id)\n",
    "names = ['Mobile issues', 'Battery Performance', 'Features and Details' , 'Phone Performance', 'Amazon Services' , 'Value For Money']\n",
    "named_df = pd.DataFrame({'Topic ID ' : [topic_id], 'Business Name': [names]})"
   ]
  },
  {
   "cell_type": "markdown",
   "id": "a7f7dc5f",
   "metadata": {},
   "source": [
    "# B) Create a table with the topic name and the top 10 terms in each to present to the  business."
   ]
  },
  {
   "cell_type": "code",
   "execution_count": 17,
   "id": "befa1426",
   "metadata": {},
   "outputs": [
    {
     "name": "stdout",
     "output_type": "stream",
     "text": [
      "[6, 1, 8, 5, 4, 10, 9, 0, 11, 7]\n"
     ]
    },
    {
     "name": "stderr",
     "output_type": "stream",
     "text": [
      "C:\\Users\\Aditya Gaitonde\\anaconda3\\lib\\site-packages\\ipykernel\\ipkernel.py:287: DeprecationWarning: `should_run_async` will not call `transform_cell` automatically in the future. Please pass the result to `transformed_cell` argument and any exception that happen during thetransform in `preprocessing_exc_tuple` in IPython 7.17 and above.\n",
      "  and should_run_async(code)\n"
     ]
    },
    {
     "data": {
      "text/html": [
       "<style  type=\"text/css\" >\n",
       "</style><table id=\"T_8a4c8_\" ><thead>    <tr>        <th class=\"col_heading level0 col0\" >Topic ID</th>        <th class=\"col_heading level0 col1\" >Top Terms</th>    </tr></thead><tbody>\n",
       "                <tr>\n",
       "                                <td id=\"T_8a4c8_row0_col0\" class=\"data row0 col0\" >6</td>\n",
       "                        <td id=\"T_8a4c8_row0_col1\" class=\"data row0 col1\" >['heat', 'money', 'waste', 'hr', 'mobile', 'earphone', 'function', 'pls', 'item', 'message']</td>\n",
       "            </tr>\n",
       "            <tr>\n",
       "                                <td id=\"T_8a4c8_row1_col0\" class=\"data row1 col0\" >1</td>\n",
       "                        <td id=\"T_8a4c8_row1_col1\" class=\"data row1 col1\" >['phone', 'service', 'day', 'amazon', 'time', 'charger', 'month', 'delivery', 'handset', 'turbo']</td>\n",
       "            </tr>\n",
       "            <tr>\n",
       "                                <td id=\"T_8a4c8_row2_col0\" class=\"data row2 col0\" >8</td>\n",
       "                        <td id=\"T_8a4c8_row2_col1\" class=\"data row2 col1\" >['product', 'note', 'k8', 'lenovo', '.....', 'experience', '......', 'condition', 'till', 'date']</td>\n",
       "            </tr>\n",
       "            <tr>\n",
       "                                <td id=\"T_8a4c8_row3_col0\" class=\"data row3 col0\" >5</td>\n",
       "                        <td id=\"T_8a4c8_row3_col1\" class=\"data row3 col1\" >['problem', 'heating', 'call', 'option', 'screen', 'phone', 'cast', 'contact', 'model', 'note']</td>\n",
       "            </tr>\n",
       "            <tr>\n",
       "                                <td id=\"T_8a4c8_row4_col0\" class=\"data row4 col0\" >4</td>\n",
       "                        <td id=\"T_8a4c8_row4_col1\" class=\"data row4 col1\" >['battery', 'backup', 'performance', 'camera', 'life', 'issue', 'hour', 'day', 'drain', 'usage']</td>\n",
       "            </tr>\n",
       "            <tr>\n",
       "                                <td id=\"T_8a4c8_row5_col0\" class=\"data row5 col0\" >10</td>\n",
       "                        <td id=\"T_8a4c8_row5_col1\" class=\"data row5 col1\" >['phone', '..', 'mobile', 'price', 'range', 'feature', 'superb', 'performance', 'buy', 'super']</td>\n",
       "            </tr>\n",
       "            <tr>\n",
       "                                <td id=\"T_8a4c8_row6_col0\" class=\"data row6 col0\" >9</td>\n",
       "                        <td id=\"T_8a4c8_row6_col1\" class=\"data row6 col1\" >['....', 'star', 'system', 'dolby', 'sound', 'atmos', 'ok', 'r', 'k4', 'please']</td>\n",
       "            </tr>\n",
       "            <tr>\n",
       "                                <td id=\"T_8a4c8_row7_col0\" class=\"data row7 col0\" >0</td>\n",
       "                        <td id=\"T_8a4c8_row7_col1\" class=\"data row7 col1\" >['speaker', 'ram', 'music', 'time', 'app', 'sensor', 'apps', 'image', 'button', 'gb']</td>\n",
       "            </tr>\n",
       "            <tr>\n",
       "                                <td id=\"T_8a4c8_row8_col0\" class=\"data row8 col0\" >11</td>\n",
       "                        <td id=\"T_8a4c8_row8_col1\" class=\"data row8 col1\" >['device', 'software', 'update', 'feature', 'budget', 'bit', 'smartphone', 'lenovo', 'mode', 'cost']</td>\n",
       "            </tr>\n",
       "            <tr>\n",
       "                                <td id=\"T_8a4c8_row9_col0\" class=\"data row9 col0\" >7</td>\n",
       "                        <td id=\"T_8a4c8_row9_col1\" class=\"data row9 col1\" >['hai', 'glass', 'headphone', 'display', 'core', 'gorilla', 'ho', 'excellent', 'plz', 'deca']</td>\n",
       "            </tr>\n",
       "    </tbody></table>"
      ],
      "text/plain": [
       "<pandas.io.formats.style.Styler at 0x1d865379460>"
      ]
     },
     "execution_count": 17,
     "metadata": {},
     "output_type": "execute_result"
    }
   ],
   "source": [
    "topics = lda_model.show_topics(formatted=False)\n",
    "topic_id = [t[0] for t in topics]\n",
    "print (topic_id)\n",
    "top_terms = []\n",
    "for topic in topics:\n",
    "    top_terms.append([term[0] for term in topic[1]])\n",
    "    \n",
    "topic_df = pd.DataFrame({'Topic ID': topic_id, 'Top Terms':top_terms})\n",
    "\n",
    "topic_df.style.hide_index()"
   ]
  }
 ],
 "metadata": {
  "kernelspec": {
   "display_name": "Python 3",
   "language": "python",
   "name": "python3"
  },
  "language_info": {
   "codemirror_mode": {
    "name": "ipython",
    "version": 3
   },
   "file_extension": ".py",
   "mimetype": "text/x-python",
   "name": "python",
   "nbconvert_exporter": "python",
   "pygments_lexer": "ipython3",
   "version": "3.8.10"
  }
 },
 "nbformat": 4,
 "nbformat_minor": 5
}
